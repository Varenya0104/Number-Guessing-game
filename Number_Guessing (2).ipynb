{
  "nbformat": 4,
  "nbformat_minor": 0,
  "metadata": {
    "colab": {
      "provenance": []
    },
    "kernelspec": {
      "name": "python3",
      "display_name": "Python 3"
    },
    "language_info": {
      "name": "python"
    }
  },
  "cells": [
    {
      "cell_type": "markdown",
      "source": [
        "The Number Guessing Game"
      ],
      "metadata": {
        "id": "lV5Rpwtmue_e"
      }
    },
    {
      "cell_type": "code",
      "execution_count": null,
      "metadata": {
        "colab": {
          "base_uri": "https://localhost:8080/"
        },
        "id": "AhUc8LkLrCLs",
        "outputId": "2d76e45f-9cfa-4ac4-f7bd-c7d7eab4e1d1"
      },
      "outputs": [
        {
          "output_type": "stream",
          "name": "stdout",
          "text": [
            "Guess a number between 1 and 10: 5\n",
            "low number! Guess a higher number.\n",
            "Guess a number between 1 and 10: 6\n",
            "low number! Guess a higher number.\n",
            "Guess a number between 1 and 10: 7\n",
            "low number! Guess a higher number.\n",
            "Guess a number between 1 and 10: 8\n",
            "Congratulations! You are right.\n",
            "Number of attempts: 4\n"
          ]
        }
      ],
      "source": [
        "import random\n",
        "import math\n",
        "def main():\n",
        "    x = random.randint(1, 100)\n",
        "    count = 0\n",
        "\n",
        "    while True:\n",
        "        guess = int(input(\"Guess a number \"))\n",
        "        count += 1\n",
        "\n",
        "        if guess == x:\n",
        "            print(\"Congratulations! You are right.\")\n",
        "            print(\"Number of attempts: \", count)\n",
        "            break\n",
        "        elif guess < x:\n",
        "            print(\"low number! Guess a higher number.\")\n",
        "        else:\n",
        "            print(\"high number! Guess a lower number.\")\n",
        "\n",
        "if __name__ == \"__main__\":\n",
        "    main()"
      ]
    },
    {
      "cell_type": "markdown",
      "source": [
        "Gives the correct answer after few attempts"
      ],
      "metadata": {
        "id": "-Wf2HgVqmUWi"
      }
    },
    {
      "cell_type": "code",
      "source": [
        "import random\n",
        "\n",
        "def main():\n",
        "    secnum = random.randint(1, 15)\n",
        "    attempts = 0\n",
        "    while attempts <= 2:\n",
        "\n",
        "        guess = int(input(\"Guess a number between 1 and 15: \"))\n",
        "        attempts += 1\n",
        "\n",
        "        if guess == secnum:\n",
        "            print(\"Congratulations! You are right.\")\n",
        "            print(\"Number of attempts:\", attempts)\n",
        "            break\n",
        "        elif guess < secnum:\n",
        "            print(\"Guess a higher number.\")\n",
        "        else:\n",
        "            print(\"Guess a lower number.\")\n",
        "\n",
        "    else:\n",
        "      print('Sorry! you are out of attempts')\n",
        "      print(\"The correct answer is:\" ,secnum)\n",
        "\n",
        "if __name__ == \"__main__\":\n",
        "    main()"
      ],
      "metadata": {
        "colab": {
          "base_uri": "https://localhost:8080/"
        },
        "id": "BaHfZmYQmSfM",
        "outputId": "f79f9dd2-e4ec-43a4-c57e-41d2541b008f"
      },
      "execution_count": null,
      "outputs": [
        {
          "output_type": "stream",
          "name": "stdout",
          "text": [
            "Guess a number between 1 and 15: 5\n",
            "Guess a lower number.\n",
            "Guess a number between 1 and 15: 6\n",
            "Guess a lower number.\n",
            "Guess a number between 1 and 15: 3\n",
            "Guess a lower number.\n",
            "Sorry! you are out of attempts\n",
            "The correct answer is: 2\n"
          ]
        }
      ]
    },
    {
      "cell_type": "code",
      "source": [
        "import random\n",
        "def main():\n",
        "  secnum=random.randint(1,15)\n",
        "  attempts=1\n",
        "\n",
        "  for _ in range(3):\n",
        "    guess=int(input('Guess the number :'))\n",
        "    attempts+=1\n",
        "\n",
        "    if secnum==guess:\n",
        "      print('Congratulations!!! you are right!!')\n",
        "      print('Number of attempts:',attempts)\n",
        "      break\n",
        "    elif secnum<guess:\n",
        "      print('Guess a lower number')\n",
        "    else:\n",
        "      print(\"Guess a higher number\")\n",
        "  else:\n",
        "    print(\"YOU ARE OUT OF ATTEMPTS\")\n",
        "    print(\"The correct answer is\",secnum)\n",
        "\n",
        "if __name__ ==\"__main__\":\n",
        "  main()\n"
      ],
      "metadata": {
        "id": "zvSzoCkJnHvh"
      },
      "execution_count": null,
      "outputs": []
    },
    {
      "cell_type": "markdown",
      "source": [
        "Without any limits on the no of attempts and guesses"
      ],
      "metadata": {
        "id": "106Gx4qOuZtj"
      }
    },
    {
      "cell_type": "code",
      "source": [
        "import random\n",
        "import math\n",
        "def game():\n",
        "  x = random.randint(0, 100)\n",
        "  count = 0\n",
        "  while count >=0:\n",
        "    count += 1\n",
        "    guess = int(input(\"Guess a number : \"))\n",
        "    if x == guess:\n",
        "      print(\"Congratulations you did it in \",count, \" try\")\n",
        "      return game()\n",
        "    elif x > guess:\n",
        "      print(\"low number! Guess a higher number.\")\n",
        "    elif x < guess:\n",
        "      print(\"high number! Guess a lower number.\")\n",
        "print(\"Lets start the game\")\n",
        "game()"
      ],
      "metadata": {
        "id": "l4MdzZItr7TO"
      },
      "execution_count": null,
      "outputs": []
    },
    {
      "cell_type": "markdown",
      "source": [
        "10 Attempts and 5 games."
      ],
      "metadata": {
        "id": "dP00w9GTo_Y_"
      }
    },
    {
      "cell_type": "code",
      "source": [
        "import random\n",
        "\n",
        "def play_game():\n",
        "    number = random.randint(1, 100)\n",
        "    attempts = 0\n",
        "    min_number = 1\n",
        "    max_number = 100\n",
        "\n",
        "    while attempts < 10:\n",
        "        guess = int(input(\"Enter your guess ({}-{}): \".format(min_number, max_number)))\n",
        "        attempts += 1\n",
        "\n",
        "        if guess < number:\n",
        "            print(\"Too low!\")\n",
        "            min_number = guess + 1\n",
        "        elif guess > number:\n",
        "            print(\"Too high!\")\n",
        "            max_number = guess - 1\n",
        "        else:\n",
        "            print(\"Congratulations! You guessed the number in\", attempts, \"attempts.\")\n",
        "            return\n",
        "\n",
        "    print(\"Out of attempts. The number was\", number)\n",
        "\n",
        "def play_multiple_games():\n",
        "    game_count = 0\n",
        "\n",
        "    while game_count < 5:\n",
        "        print(\"\\n--- Game\", game_count + 1, \"---\")\n",
        "        play_game()\n",
        "        game_count += 1\n",
        "\n",
        "    print(\"\\n--- Game Over ---\")\n",
        "\n",
        "play_multiple_games()\n"
      ],
      "metadata": {
        "id": "JSS0cbgVo7gL"
      },
      "execution_count": null,
      "outputs": []
    },
    {
      "cell_type": "markdown",
      "source": [
        "No.of guesses exceeded start a new game."
      ],
      "metadata": {
        "id": "Ucqq6wHVn6tA"
      }
    },
    {
      "cell_type": "code",
      "source": [
        "import random\n",
        "import math\n",
        "attempt = 0\n",
        "def game():\n",
        "  x = random.randint(0, 100)\n",
        "  count = 0\n",
        "  for count in range(0,10):\n",
        "    count += 1\n",
        "    guess = int(input(\"Guess a number : \"))\n",
        "    if x == guess:\n",
        "      print(\"Congratulations you did it in \",count, \" try\")\n",
        "      return game()\n",
        "    elif x > guess:\n",
        "      print(\"Guess a Higher Number\")\n",
        "    elif x < guess:\n",
        "      print(\"Guess a Lower Number\")\n",
        "  else:\n",
        "    print(\"No of Guesses exceeded \")\n",
        "    return game()\n",
        "game()"
      ],
      "metadata": {
        "id": "9sIpFMwhn5t_"
      },
      "execution_count": null,
      "outputs": []
    },
    {
      "cell_type": "markdown",
      "source": [
        "2 Players are involved,\n",
        "without any human intervention."
      ],
      "metadata": {
        "id": "o_QzTRoCvJ6b"
      }
    },
    {
      "cell_type": "code",
      "source": [
        "import random\n",
        "import time\n",
        "\n",
        "playAttempts = 0\n",
        "print(\"Game starts!\")\n",
        "print(\"Players in the  are game: Player1 and Player 2\")\n",
        "\n",
        "while playAttempts < 5:\n",
        "    print(\"Game starts!\")\n",
        "    print(\"Player 1 has selected a number in the range 1 to 100\")\n",
        "    i = 1\n",
        "    j = 100\n",
        "    num = 0\n",
        "    guessNum = 0\n",
        "    gameAttempts = 0\n",
        "    won = 0\n",
        "\n",
        "    print(\"Player 2 enters a number in the range\", i, \"to\", j, \":\")\n",
        "\n",
        "    while gameAttempts < 10:\n",
        "        num = random.randint(i, j)\n",
        "        guessNum = random.randint(i, j)\n",
        "        print(\"player 2:\", guessNum)\n",
        "\n",
        "        if guessNum == num:\n",
        "            print(\"Player 2 has guessed the number in\", gameAttempts + 1, \"attempts\")\n",
        "            break\n",
        "        elif guessNum > num:\n",
        "            print(\"Try a smaller number\")\n",
        "            j = guessNum - 1\n",
        "        elif guessNum < num:\n",
        "            print(\"Try a larger number\")\n",
        "            i = guessNum + 1\n",
        "\n",
        "        gameAttempts += 1\n",
        "\n",
        "    if num == guessNum:\n",
        "        print(\"Player 2 wins\")\n",
        "    else:\n",
        "        print(\"Player 2 failed to enter the correct number!\")\n",
        "        print(\"The correct number is\", num)\n",
        "        print(\"Player 1 wins\")\n",
        "\n",
        "    playAttempts += 1\n",
        "    time.sleep(5)\n"
      ],
      "metadata": {
        "colab": {
          "base_uri": "https://localhost:8080/"
        },
        "id": "xafK1vcbvvbY",
        "outputId": "fade9984-f5cd-4b9b-9223-d8c02451a63d"
      },
      "execution_count": null,
      "outputs": [
        {
          "output_type": "stream",
          "name": "stdout",
          "text": [
            "Game starts!\n",
            "Players in the game: Player1 and Player 2\n",
            "Game starts!\n",
            "Player 1 has selected a number in the range 1 to 100\n",
            "Player 2 enters a number in the range 1 to 100 :\n",
            "player 2: 14\n",
            "Try a larger number\n",
            "player 2: 35\n",
            "Try a larger number\n",
            "player 2: 80\n",
            "Try a smaller number\n",
            "player 2: 47\n",
            "Try a larger number\n",
            "player 2: 73\n",
            "Try a larger number\n",
            "player 2: 79\n",
            "Try a smaller number\n",
            "player 2: 74\n",
            "Try a larger number\n",
            "player 2: 77\n",
            "Try a larger number\n",
            "player 2: 78\n",
            "Player 2 has guessed the number in 9 attempts\n",
            "Player 2 wins\n",
            "Game starts!\n",
            "Player 1 has selected a number in the range 1 to 100\n",
            "Player 2 enters a number in the range 1 to 100 :\n",
            "player 2: 33\n",
            "Try a smaller number\n",
            "player 2: 21\n",
            "Try a larger number\n",
            "player 2: 29\n",
            "Try a smaller number\n",
            "player 2: 22\n",
            "Try a larger number\n",
            "player 2: 26\n",
            "Try a smaller number\n",
            "player 2: 24\n",
            "Player 2 has guessed the number in 6 attempts\n",
            "Player 2 wins\n",
            "Game starts!\n",
            "Player 1 has selected a number in the range 1 to 100\n",
            "Player 2 enters a number in the range 1 to 100 :\n",
            "player 2: 27\n",
            "Try a smaller number\n",
            "player 2: 5\n",
            "Try a larger number\n",
            "player 2: 16\n",
            "Try a larger number\n",
            "player 2: 24\n",
            "Try a smaller number\n",
            "player 2: 21\n",
            "Player 2 has guessed the number in 5 attempts\n",
            "Player 2 wins\n",
            "Game starts!\n",
            "Player 1 has selected a number in the range 1 to 100\n",
            "Player 2 enters a number in the range 1 to 100 :\n",
            "player 2: 53\n",
            "Try a larger number\n",
            "player 2: 81\n",
            "Try a smaller number\n",
            "player 2: 61\n",
            "Try a larger number\n",
            "player 2: 80\n",
            "Try a smaller number\n",
            "player 2: 77\n",
            "Try a smaller number\n",
            "player 2: 74\n",
            "Try a smaller number\n",
            "player 2: 68\n",
            "Try a larger number\n",
            "player 2: 73\n",
            "Try a smaller number\n",
            "player 2: 70\n",
            "Try a smaller number\n",
            "player 2: 69\n",
            "Player 2 has guessed the number in 10 attempts\n",
            "Player 2 wins\n",
            "Game starts!\n",
            "Player 1 has selected a number in the range 1 to 100\n",
            "Player 2 enters a number in the range 1 to 100 :\n",
            "player 2: 72\n",
            "Try a larger number\n",
            "player 2: 86\n",
            "Try a larger number\n",
            "player 2: 90\n",
            "Try a smaller number\n",
            "player 2: 89\n",
            "Try a smaller number\n",
            "player 2: 88\n",
            "Player 2 has guessed the number in 5 attempts\n",
            "Player 2 wins\n"
          ]
        }
      ]
    }
  ]
}